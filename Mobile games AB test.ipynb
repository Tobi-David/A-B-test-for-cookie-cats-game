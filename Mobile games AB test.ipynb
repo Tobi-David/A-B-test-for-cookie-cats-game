{
 "cells": [
  {
   "cell_type": "markdown",
   "id": "numerical-eclipse",
   "metadata": {},
   "source": [
    "## Analyze A/B Test Results\n",
    "\n",
    "\n",
    "\n",
    "## Table of Contents\n",
    "- [Introduction](#intro)\n",
    "- [Part I - Probability](#probability)\n",
    "- [Part II - A/B Test](#ab_test)\n",
    "\n",
    "\n",
    "<a id='intro'></a>\n",
    "### Introduction\n",
    "\n",
    "For this project, I will be working to understand the results of an A/B test run by Tactile entertainment on a game called Cookie Cats to examine what happens when the first gate in the game was moved from level 30 to level 40. When a player installed the game, he or she was randomly assigned to either gate30 or gate40. My goal is to help the company understand if they should implement the use gate30, or gate40, or perhaps run the experiment longer to make their decision.\n",
    "\n",
    "The dataset was gotten from kaggle and contains the AB test for 90,189 players that installed the game while the AB-test was running. The variables are:\n",
    "\n",
    "- userid: A unique number that identifies each player.\n",
    "- version: Whether the player was put in the control group (gate30 - a gate at level 30) or the group with the moved gate (gate40 - a gate at level 40).\n",
    "- sumgamerounds: the number of game rounds played by the player during the first 14 days after install.\n",
    "- retention_1: Did the player come back and play 1 day after installing?\n",
    "- retention_7: Did the player come back and play 7 days after installing?\n",
    "\n",
    "When a player installed the game, he or she was randomly assigned to either.\n",
    "\n",
    "For the purposes of this analysis gate30 will represent the control group and gate40 will be the treatment group,\n",
    "\n",
    "<a id='probability'></a>\n",
    "#### Part I - Probability\n",
    "\n",
    "Importing libraries."
   ]
  },
  {
   "cell_type": "code",
   "execution_count": 1,
   "id": "transsexual-equipment",
   "metadata": {},
   "outputs": [],
   "source": [
    "import numpy as np\n",
    "import pandas as pd\n",
    "import scipy.stats as stats\n",
    "import matplotlib.pyplot as plt\n",
    "import statsmodels.api as sms\n",
    "import statsmodels.stats.api as sms\n",
    "from statsmodels.stats.proportion import proportions_ztest, proportion_confint\n",
    "from math import ceil"
   ]
  },
  {
   "cell_type": "markdown",
   "id": "portable-marathon",
   "metadata": {},
   "source": [
    "Reading the dataset to a pandas dataframe"
   ]
  },
  {
   "cell_type": "code",
   "execution_count": 2,
   "id": "owned-damages",
   "metadata": {},
   "outputs": [],
   "source": [
    "df = pd.read_csv('cookie_cats.csv')"
   ]
  },
  {
   "cell_type": "code",
   "execution_count": 3,
   "id": "worth-headset",
   "metadata": {},
   "outputs": [
    {
     "data": {
      "text/html": [
       "<div>\n",
       "<style scoped>\n",
       "    .dataframe tbody tr th:only-of-type {\n",
       "        vertical-align: middle;\n",
       "    }\n",
       "\n",
       "    .dataframe tbody tr th {\n",
       "        vertical-align: top;\n",
       "    }\n",
       "\n",
       "    .dataframe thead th {\n",
       "        text-align: right;\n",
       "    }\n",
       "</style>\n",
       "<table border=\"1\" class=\"dataframe\">\n",
       "  <thead>\n",
       "    <tr style=\"text-align: right;\">\n",
       "      <th></th>\n",
       "      <th>userid</th>\n",
       "      <th>version</th>\n",
       "      <th>sum_gamerounds</th>\n",
       "      <th>retention_1</th>\n",
       "      <th>retention_7</th>\n",
       "    </tr>\n",
       "  </thead>\n",
       "  <tbody>\n",
       "    <tr>\n",
       "      <th>0</th>\n",
       "      <td>116</td>\n",
       "      <td>gate_30</td>\n",
       "      <td>3</td>\n",
       "      <td>False</td>\n",
       "      <td>False</td>\n",
       "    </tr>\n",
       "    <tr>\n",
       "      <th>1</th>\n",
       "      <td>337</td>\n",
       "      <td>gate_30</td>\n",
       "      <td>38</td>\n",
       "      <td>True</td>\n",
       "      <td>False</td>\n",
       "    </tr>\n",
       "    <tr>\n",
       "      <th>2</th>\n",
       "      <td>377</td>\n",
       "      <td>gate_40</td>\n",
       "      <td>165</td>\n",
       "      <td>True</td>\n",
       "      <td>False</td>\n",
       "    </tr>\n",
       "    <tr>\n",
       "      <th>3</th>\n",
       "      <td>483</td>\n",
       "      <td>gate_40</td>\n",
       "      <td>1</td>\n",
       "      <td>False</td>\n",
       "      <td>False</td>\n",
       "    </tr>\n",
       "    <tr>\n",
       "      <th>4</th>\n",
       "      <td>488</td>\n",
       "      <td>gate_40</td>\n",
       "      <td>179</td>\n",
       "      <td>True</td>\n",
       "      <td>True</td>\n",
       "    </tr>\n",
       "  </tbody>\n",
       "</table>\n",
       "</div>"
      ],
      "text/plain": [
       "   userid  version  sum_gamerounds  retention_1  retention_7\n",
       "0     116  gate_30               3        False        False\n",
       "1     337  gate_30              38         True        False\n",
       "2     377  gate_40             165         True        False\n",
       "3     483  gate_40               1        False        False\n",
       "4     488  gate_40             179         True         True"
      ]
     },
     "execution_count": 3,
     "metadata": {},
     "output_type": "execute_result"
    }
   ],
   "source": [
    "df.head()"
   ]
  },
  {
   "cell_type": "markdown",
   "id": "curious-mathematics",
   "metadata": {},
   "source": [
    "Unique users"
   ]
  },
  {
   "cell_type": "code",
   "execution_count": 4,
   "id": "listed-finnish",
   "metadata": {},
   "outputs": [
    {
     "data": {
      "text/plain": [
       "90189"
      ]
     },
     "execution_count": 4,
     "metadata": {},
     "output_type": "execute_result"
    }
   ],
   "source": [
    "df['userid'].nunique()"
   ]
  },
  {
   "cell_type": "markdown",
   "id": "contemporary-small",
   "metadata": {},
   "source": [
    "Distribution of the users "
   ]
  },
  {
   "cell_type": "code",
   "execution_count": 5,
   "id": "arranged-mattress",
   "metadata": {},
   "outputs": [
    {
     "data": {
      "text/plain": [
       "version\n",
       "gate_30    44700\n",
       "gate_40    45489\n",
       "Name: userid, dtype: int64"
      ]
     },
     "execution_count": 5,
     "metadata": {},
     "output_type": "execute_result"
    }
   ],
   "source": [
    "df.groupby(by='version').count()['userid']"
   ]
  },
  {
   "cell_type": "markdown",
   "id": "constant-surgeon",
   "metadata": {},
   "source": [
    "Percentage of users that returned after 1 day"
   ]
  },
  {
   "cell_type": "code",
   "execution_count": 6,
   "id": "initial-pendant",
   "metadata": {},
   "outputs": [
    {
     "data": {
      "text/plain": [
       "0.4452095044850259"
      ]
     },
     "execution_count": 6,
     "metadata": {},
     "output_type": "execute_result"
    }
   ],
   "source": [
    "sum(df['retention_1'])/ df.shape[0]"
   ]
  },
  {
   "cell_type": "markdown",
   "id": "supposed-raising",
   "metadata": {},
   "source": [
    "Percentage of users that returned after 7 days"
   ]
  },
  {
   "cell_type": "code",
   "execution_count": 7,
   "id": "imposed-parliament",
   "metadata": {},
   "outputs": [
    {
     "data": {
      "text/plain": [
       "0.1860648194347426"
      ]
     },
     "execution_count": 7,
     "metadata": {},
     "output_type": "execute_result"
    }
   ],
   "source": [
    "sum(df['retention_7'])/ df.shape[0]"
   ]
  },
  {
   "cell_type": "markdown",
   "id": "complicated-atlantic",
   "metadata": {},
   "source": [
    "Probability of a user given gate30 returns after 1 day"
   ]
  },
  {
   "cell_type": "code",
   "execution_count": 8,
   "id": "constitutional-thermal",
   "metadata": {},
   "outputs": [],
   "source": [
    "control = df[df['version'] == 'gate_30']\n",
    "ctr_p1 = sum(control['retention_1'])/ control.shape[0]"
   ]
  },
  {
   "cell_type": "markdown",
   "id": "cardiovascular-screen",
   "metadata": {},
   "source": [
    "Probability of a user given gate30 returns after 7 days"
   ]
  },
  {
   "cell_type": "code",
   "execution_count": 9,
   "id": "divided-criminal",
   "metadata": {},
   "outputs": [],
   "source": [
    "ctr_p2 = sum(control['retention_7'])/ control.shape[0]"
   ]
  },
  {
   "cell_type": "markdown",
   "id": "cutting-soundtrack",
   "metadata": {},
   "source": [
    "Probability of a user given gate40 returns after 1 day"
   ]
  },
  {
   "cell_type": "code",
   "execution_count": 10,
   "id": "republican-meaning",
   "metadata": {},
   "outputs": [],
   "source": [
    "treatment = df[df['version'] == 'gate_40']\n",
    "trt_p1 = sum(treatment['retention_1'])/ treatment.shape[0]"
   ]
  },
  {
   "cell_type": "markdown",
   "id": "modular-permit",
   "metadata": {},
   "source": [
    "Probability of a user given gate40 returns after 7 days"
   ]
  },
  {
   "cell_type": "code",
   "execution_count": 11,
   "id": "conventional-lease",
   "metadata": {},
   "outputs": [],
   "source": [
    "trt_p2 = sum(treatment['retention_7'])/ treatment.shape[0]"
   ]
  },
  {
   "cell_type": "code",
   "execution_count": 27,
   "id": "useful-thread",
   "metadata": {},
   "outputs": [],
   "source": [
    "diff_p1 = ctr_p1 - trt_p1"
   ]
  },
  {
   "cell_type": "code",
   "execution_count": 28,
   "id": "visible-gambling",
   "metadata": {},
   "outputs": [],
   "source": [
    "diff_p2 = ctr_p2 - trt_p2"
   ]
  },
  {
   "cell_type": "code",
   "execution_count": 29,
   "id": "dutch-disposition",
   "metadata": {},
   "outputs": [
    {
     "data": {
      "text/plain": [
       "(0.005905169787341458, 0.008201298315205913)"
      ]
     },
     "execution_count": 29,
     "metadata": {},
     "output_type": "execute_result"
    }
   ],
   "source": [
    "diff_p1, diff_p2"
   ]
  },
  {
   "cell_type": "markdown",
   "id": "serial-sacramento",
   "metadata": {},
   "source": [
    "**From the preliminary analysis there isnt sufficient evidence to suggest that the treatment group leads to more retention**"
   ]
  },
  {
   "cell_type": "markdown",
   "id": "seventh-extent",
   "metadata": {},
   "source": [
    "<a id='ab_test'></a>\n",
    "#### A/B test"
   ]
  },
  {
   "cell_type": "markdown",
   "id": "matched-investment",
   "metadata": {},
   "source": [
    "**$H_0$ : $p_{30} =  p_{40}$** <br>\n",
    "**$H_1$ : $p_{30} \\neq  p_{40}$**"
   ]
  },
  {
   "cell_type": "code",
   "execution_count": 37,
   "id": "faced-choice",
   "metadata": {},
   "outputs": [
    {
     "name": "stdout",
     "output_type": "stream",
     "text": [
      "13049\n"
     ]
    }
   ],
   "source": [
    "effect_size = sms.proportion_effectsize(0.45, 0.47)    # Calculating effect size based on our expected rates\n",
    "\n",
    "required_n = sms.NormalIndPower().solve_power(\n",
    "    effect_size, \n",
    "    power=0.9, \n",
    "    alpha=0.05, \n",
    "    ratio=1\n",
    "    )                                                  # Calculating sample size needed\n",
    "\n",
    "required_n = ceil(required_n)                          # Rounding up to next whole number                          \n",
    "\n",
    "print(required_n)"
   ]
  },
  {
   "cell_type": "markdown",
   "id": "treated-chorus",
   "metadata": {},
   "source": [
    "We need at least 13,049 observations for each group<br>\n",
    "The power is set to 90 percent and the expected rate is (45% for gate 30 and 47% for gate 40) meaning that to have a 90% chance of detecting if the difference is statistically significant we need the above minimum number of observations."
   ]
  },
  {
   "cell_type": "code",
   "execution_count": 21,
   "id": "flying-capability",
   "metadata": {},
   "outputs": [],
   "source": [
    "control_sample = df[df['version'] == 'gate_30'].sample(44000)\n",
    "treatment_sample = df[df['version'] == 'gate_40'].sample(44000)\n",
    "\n",
    "ab_test = pd.concat([control_sample, treatment_sample], axis=0)\n",
    "ab_test.reset_index(drop=True, inplace=True)"
   ]
  },
  {
   "cell_type": "code",
   "execution_count": 22,
   "id": "monthly-interference",
   "metadata": {},
   "outputs": [
    {
     "data": {
      "text/html": [
       "<div>\n",
       "<style scoped>\n",
       "    .dataframe tbody tr th:only-of-type {\n",
       "        vertical-align: middle;\n",
       "    }\n",
       "\n",
       "    .dataframe tbody tr th {\n",
       "        vertical-align: top;\n",
       "    }\n",
       "\n",
       "    .dataframe thead th {\n",
       "        text-align: right;\n",
       "    }\n",
       "</style>\n",
       "<table border=\"1\" class=\"dataframe\">\n",
       "  <thead>\n",
       "    <tr style=\"text-align: right;\">\n",
       "      <th></th>\n",
       "      <th>userid</th>\n",
       "      <th>version</th>\n",
       "      <th>sum_gamerounds</th>\n",
       "      <th>retention_1</th>\n",
       "      <th>retention_7</th>\n",
       "    </tr>\n",
       "  </thead>\n",
       "  <tbody>\n",
       "    <tr>\n",
       "      <th>0</th>\n",
       "      <td>6058009</td>\n",
       "      <td>gate_30</td>\n",
       "      <td>6</td>\n",
       "      <td>False</td>\n",
       "      <td>False</td>\n",
       "    </tr>\n",
       "    <tr>\n",
       "      <th>1</th>\n",
       "      <td>3129796</td>\n",
       "      <td>gate_30</td>\n",
       "      <td>2</td>\n",
       "      <td>False</td>\n",
       "      <td>False</td>\n",
       "    </tr>\n",
       "    <tr>\n",
       "      <th>2</th>\n",
       "      <td>6143201</td>\n",
       "      <td>gate_30</td>\n",
       "      <td>32</td>\n",
       "      <td>True</td>\n",
       "      <td>False</td>\n",
       "    </tr>\n",
       "    <tr>\n",
       "      <th>3</th>\n",
       "      <td>1247537</td>\n",
       "      <td>gate_30</td>\n",
       "      <td>10</td>\n",
       "      <td>False</td>\n",
       "      <td>False</td>\n",
       "    </tr>\n",
       "    <tr>\n",
       "      <th>4</th>\n",
       "      <td>8312326</td>\n",
       "      <td>gate_30</td>\n",
       "      <td>2</td>\n",
       "      <td>False</td>\n",
       "      <td>False</td>\n",
       "    </tr>\n",
       "    <tr>\n",
       "      <th>...</th>\n",
       "      <td>...</td>\n",
       "      <td>...</td>\n",
       "      <td>...</td>\n",
       "      <td>...</td>\n",
       "      <td>...</td>\n",
       "    </tr>\n",
       "    <tr>\n",
       "      <th>87995</th>\n",
       "      <td>7329616</td>\n",
       "      <td>gate_40</td>\n",
       "      <td>1</td>\n",
       "      <td>False</td>\n",
       "      <td>False</td>\n",
       "    </tr>\n",
       "    <tr>\n",
       "      <th>87996</th>\n",
       "      <td>5325946</td>\n",
       "      <td>gate_40</td>\n",
       "      <td>3</td>\n",
       "      <td>True</td>\n",
       "      <td>False</td>\n",
       "    </tr>\n",
       "    <tr>\n",
       "      <th>87997</th>\n",
       "      <td>4622531</td>\n",
       "      <td>gate_40</td>\n",
       "      <td>7</td>\n",
       "      <td>False</td>\n",
       "      <td>False</td>\n",
       "    </tr>\n",
       "    <tr>\n",
       "      <th>87998</th>\n",
       "      <td>3563811</td>\n",
       "      <td>gate_40</td>\n",
       "      <td>4</td>\n",
       "      <td>False</td>\n",
       "      <td>False</td>\n",
       "    </tr>\n",
       "    <tr>\n",
       "      <th>87999</th>\n",
       "      <td>3138076</td>\n",
       "      <td>gate_40</td>\n",
       "      <td>11</td>\n",
       "      <td>False</td>\n",
       "      <td>False</td>\n",
       "    </tr>\n",
       "  </tbody>\n",
       "</table>\n",
       "<p>88000 rows × 5 columns</p>\n",
       "</div>"
      ],
      "text/plain": [
       "        userid  version  sum_gamerounds  retention_1  retention_7\n",
       "0      6058009  gate_30               6        False        False\n",
       "1      3129796  gate_30               2        False        False\n",
       "2      6143201  gate_30              32         True        False\n",
       "3      1247537  gate_30              10        False        False\n",
       "4      8312326  gate_30               2        False        False\n",
       "...        ...      ...             ...          ...          ...\n",
       "87995  7329616  gate_40               1        False        False\n",
       "87996  5325946  gate_40               3         True        False\n",
       "87997  4622531  gate_40               7        False        False\n",
       "87998  3563811  gate_40               4        False        False\n",
       "87999  3138076  gate_40              11        False        False\n",
       "\n",
       "[88000 rows x 5 columns]"
      ]
     },
     "execution_count": 22,
     "metadata": {},
     "output_type": "execute_result"
    }
   ],
   "source": [
    "ab_test"
   ]
  },
  {
   "cell_type": "markdown",
   "id": "painful-argentina",
   "metadata": {},
   "source": [
    "### Retention 1 : Players coming back to play the game after the first day."
   ]
  },
  {
   "cell_type": "code",
   "execution_count": 23,
   "id": "vocational-temperature",
   "metadata": {},
   "outputs": [],
   "source": [
    "control_results = ab_test[ab_test['version'] == 'gate_30']['retention_1']\n",
    "treatment_results = ab_test[ab_test['version'] == 'gate_40']['retention_1']"
   ]
  },
  {
   "cell_type": "code",
   "execution_count": 38,
   "id": "surrounded-virtue",
   "metadata": {},
   "outputs": [
    {
     "name": "stdout",
     "output_type": "stream",
     "text": [
      "z statistic: 1.89\n",
      "p-value: 0.058\n",
      "ci 95% for control group: [0.443, 0.453]\n",
      "ci 95% for treatment group: [0.437, 0.446]\n"
     ]
    }
   ],
   "source": [
    "n_con = control_results.count()\n",
    "n_treat = treatment_results.count()\n",
    "successes = [control_results.sum(), treatment_results.sum()]\n",
    "nobs = [n_con, n_treat]\n",
    "\n",
    "z_stat, pval = proportions_ztest(successes, nobs=nobs)\n",
    "(lower_con, lower_treat), (upper_con, upper_treat) = proportion_confint(successes, nobs=nobs, alpha=0.05)\n",
    "\n",
    "print(f'z statistic: {z_stat:.2f}')\n",
    "print(f'p-value: {pval:.3f}')\n",
    "print(f'ci 95% for control group: [{lower_con:.3f}, {upper_con:.3f}]')\n",
    "print(f'ci 95% for treatment group: [{lower_treat:.3f}, {upper_treat:.3f}]')"
   ]
  },
  {
   "cell_type": "markdown",
   "id": "statutory-grill",
   "metadata": {},
   "source": [
    "### Conclusion"
   ]
  },
  {
   "cell_type": "markdown",
   "id": "needed-hindu",
   "metadata": {},
   "source": [
    "With a p-value of 0.058 which is greater than the alpha(0.05) we cannot reject the null hypothesis. <br>\n",
    "Therefore **$H_0$ : $p_{30} =  p_{40}$** meaning the two gates are equal in their ability to retain a players 1 day after installation. <br>\n",
    "The confidence interval for the control group (44.3% - 45.3%) is slightly higher than that of the treatment group  (43.7% - 44.6%) meaning that the conversion rate of gate 30 is higher than that of gate 40."
   ]
  },
  {
   "cell_type": "markdown",
   "id": "above-washington",
   "metadata": {},
   "source": [
    "### Retention 7 : Players coming back to play the game after the seventh day."
   ]
  },
  {
   "cell_type": "code",
   "execution_count": 40,
   "id": "amateur-board",
   "metadata": {},
   "outputs": [],
   "source": [
    "control_results_7 = ab_test[ab_test['version'] == 'gate_30']['retention_7']\n",
    "treatment_results_7 = ab_test[ab_test['version'] == 'gate_40']['retention_7']"
   ]
  },
  {
   "cell_type": "code",
   "execution_count": 41,
   "id": "moderate-mention",
   "metadata": {},
   "outputs": [
    {
     "name": "stdout",
     "output_type": "stream",
     "text": [
      "z statistic: 2.96\n",
      "p-value: 0.003\n",
      "ci 95% for control group: [0.186, 0.194]\n",
      "ci 95% for treatment group: [0.179, 0.186]\n"
     ]
    }
   ],
   "source": [
    "n_control = control_results_7.count()\n",
    "n_treatment = treatment_results_7.count()\n",
    "successes_7 = [control_results_7.sum(), treatment_results_7.sum()]\n",
    "nobs_7 = [n_control, n_treatment]\n",
    "\n",
    "z_stat_7, pval_7 = proportions_ztest(successes_7, nobs=nobs_7)\n",
    "(lower_con_7, lower_treat_7), (upper_con_7, upper_treat_7) = proportion_confint(successes_7, nobs=nobs_7, alpha=0.05)\n",
    "\n",
    "print(f'z statistic: {z_stat_7:.2f}')\n",
    "print(f'p-value: {pval_7:.3f}')\n",
    "print(f'ci 95% for control group: [{lower_con_7:.3f}, {upper_con_7:.3f}]')\n",
    "print(f'ci 95% for treatment group: [{lower_treat_7:.3f}, {upper_treat_7:.3f}]')"
   ]
  },
  {
   "cell_type": "markdown",
   "id": "angry-research",
   "metadata": {},
   "source": [
    "### Conclusion"
   ]
  },
  {
   "cell_type": "markdown",
   "id": "worth-filter",
   "metadata": {},
   "source": [
    "With a p-value of 0.003 which is not greater than the alpha(0.05) we can reject the null hypothesis in favour of the alternative. <br>\n",
    "Therefore **$H_1$ : $p_{30} \\neq  p_{40}$** meaning the two gates are not equal in their ability to retain a players 7 days after installation. <br>\n",
    "The confidence interval for the control group (18.6% - 19.4%) is significantly higher than that of the treatment group  (17.9% - 18.6%) meaning that the conversion rate of gate 30 is significantly higher than that of gate 40."
   ]
  },
  {
   "cell_type": "code",
   "execution_count": null,
   "id": "under-acrobat",
   "metadata": {},
   "outputs": [],
   "source": []
  },
  {
   "cell_type": "code",
   "execution_count": null,
   "id": "static-navigator",
   "metadata": {},
   "outputs": [],
   "source": []
  },
  {
   "cell_type": "code",
   "execution_count": null,
   "id": "disturbed-context",
   "metadata": {},
   "outputs": [],
   "source": []
  }
 ],
 "metadata": {
  "kernelspec": {
   "display_name": "Python [conda env:root] *",
   "language": "python",
   "name": "conda-root-py"
  },
  "language_info": {
   "codemirror_mode": {
    "name": "ipython",
    "version": 3
   },
   "file_extension": ".py",
   "mimetype": "text/x-python",
   "name": "python",
   "nbconvert_exporter": "python",
   "pygments_lexer": "ipython3",
   "version": "3.8.5"
  }
 },
 "nbformat": 4,
 "nbformat_minor": 5
}
