{
 "cells": [
  {
   "cell_type": "markdown",
   "id": "numerical-eclipse",
   "metadata": {},
   "source": [
    "## Analyze A/B Test Results\n",
    "\n",
    "\n",
    "\n",
    "## Table of Contents\n",
    "- [Introduction](#intro)\n",
    "- [Part I - Probability](#probability)\n",
    "- [Part II - A/B Test](#ab_test)\n",
    "- [Part III - Regression](#regression)\n",
    "\n",
    "\n",
    "<a id='intro'></a>\n",
    "### Introduction\n",
    "\n",
    "For this project, I will be working to understand the results of an A/B test run by Tactile entertainment on a game called Cookie Cats to examine what happens when the first gate in the game was moved from level 30 to level 40. When a player installed the game, he or she was randomly assigned to either gate30 or gate40. My goal is to help the company understand if they should implement the use gate30, or gate40, or perhaps run the experiment longer to make their decision.\n",
    "\n",
    "The dataset was gotten from kaggle and contains the AB test for 90,189 players that installed the game while the AB-test was running. The variables are:\n",
    "\n",
    "- userid: A unique number that identifies each player.\n",
    "- version: Whether the player was put in the control group (gate30 - a gate at level 30) or the group with the moved gate (gate40 - a gate at level 40).\n",
    "- sumgamerounds: the number of game rounds played by the player during the first 14 days after install.\n",
    "- retention1: Did the player come back and play 1 day after installing?\n",
    "- retention_7: Did the player come back and play 7 days after installing?\n",
    "\n",
    "When a player installed the game, he or she was randomly assigned to either.\n",
    "\n",
    "For the purposes of this analysis gate30 will represent the control group and gate40 will be the treatment group,\n",
    "\n",
    "<a id='probability'></a>\n",
    "#### Part I - Probability\n",
    "\n",
    "Importing libraries."
   ]
  },
  {
   "cell_type": "code",
   "execution_count": 23,
   "id": "transsexual-equipment",
   "metadata": {},
   "outputs": [],
   "source": [
    "import numpy as np\n",
    "import pandas as pd\n",
    "import matplotlib.pyplot as plt\n",
    "import statsmodels.api as sm\n"
   ]
  },
  {
   "cell_type": "markdown",
   "id": "portable-marathon",
   "metadata": {},
   "source": [
    "Reading the dataset to a pandas dataframe"
   ]
  },
  {
   "cell_type": "code",
   "execution_count": 2,
   "id": "owned-damages",
   "metadata": {},
   "outputs": [],
   "source": [
    "df = pd.read_csv('cookie_cats.csv')"
   ]
  },
  {
   "cell_type": "code",
   "execution_count": 22,
   "id": "worth-headset",
   "metadata": {},
   "outputs": [
    {
     "data": {
      "text/html": [
       "<div>\n",
       "<style scoped>\n",
       "    .dataframe tbody tr th:only-of-type {\n",
       "        vertical-align: middle;\n",
       "    }\n",
       "\n",
       "    .dataframe tbody tr th {\n",
       "        vertical-align: top;\n",
       "    }\n",
       "\n",
       "    .dataframe thead th {\n",
       "        text-align: right;\n",
       "    }\n",
       "</style>\n",
       "<table border=\"1\" class=\"dataframe\">\n",
       "  <thead>\n",
       "    <tr style=\"text-align: right;\">\n",
       "      <th></th>\n",
       "      <th>userid</th>\n",
       "      <th>version</th>\n",
       "      <th>sum_gamerounds</th>\n",
       "      <th>retention_1</th>\n",
       "      <th>retention_7</th>\n",
       "    </tr>\n",
       "  </thead>\n",
       "  <tbody>\n",
       "    <tr>\n",
       "      <th>0</th>\n",
       "      <td>116</td>\n",
       "      <td>gate_30</td>\n",
       "      <td>3</td>\n",
       "      <td>False</td>\n",
       "      <td>False</td>\n",
       "    </tr>\n",
       "    <tr>\n",
       "      <th>1</th>\n",
       "      <td>337</td>\n",
       "      <td>gate_30</td>\n",
       "      <td>38</td>\n",
       "      <td>True</td>\n",
       "      <td>False</td>\n",
       "    </tr>\n",
       "    <tr>\n",
       "      <th>2</th>\n",
       "      <td>377</td>\n",
       "      <td>gate_40</td>\n",
       "      <td>165</td>\n",
       "      <td>True</td>\n",
       "      <td>False</td>\n",
       "    </tr>\n",
       "    <tr>\n",
       "      <th>3</th>\n",
       "      <td>483</td>\n",
       "      <td>gate_40</td>\n",
       "      <td>1</td>\n",
       "      <td>False</td>\n",
       "      <td>False</td>\n",
       "    </tr>\n",
       "    <tr>\n",
       "      <th>4</th>\n",
       "      <td>488</td>\n",
       "      <td>gate_40</td>\n",
       "      <td>179</td>\n",
       "      <td>True</td>\n",
       "      <td>True</td>\n",
       "    </tr>\n",
       "  </tbody>\n",
       "</table>\n",
       "</div>"
      ],
      "text/plain": [
       "   userid  version  sum_gamerounds  retention_1  retention_7\n",
       "0     116  gate_30               3        False        False\n",
       "1     337  gate_30              38         True        False\n",
       "2     377  gate_40             165         True        False\n",
       "3     483  gate_40               1        False        False\n",
       "4     488  gate_40             179         True         True"
      ]
     },
     "execution_count": 22,
     "metadata": {},
     "output_type": "execute_result"
    }
   ],
   "source": [
    "df.head()"
   ]
  },
  {
   "cell_type": "markdown",
   "id": "curious-mathematics",
   "metadata": {},
   "source": [
    "Unique users"
   ]
  },
  {
   "cell_type": "code",
   "execution_count": 7,
   "id": "listed-finnish",
   "metadata": {},
   "outputs": [
    {
     "data": {
      "text/plain": [
       "90189"
      ]
     },
     "execution_count": 7,
     "metadata": {},
     "output_type": "execute_result"
    }
   ],
   "source": [
    "df['userid'].nunique()"
   ]
  },
  {
   "cell_type": "markdown",
   "id": "contemporary-small",
   "metadata": {},
   "source": [
    "Distribution of the users "
   ]
  },
  {
   "cell_type": "code",
   "execution_count": 13,
   "id": "arranged-mattress",
   "metadata": {},
   "outputs": [
    {
     "data": {
      "text/plain": [
       "version\n",
       "gate_30    44700\n",
       "gate_40    45489\n",
       "Name: userid, dtype: int64"
      ]
     },
     "execution_count": 13,
     "metadata": {},
     "output_type": "execute_result"
    }
   ],
   "source": [
    "df.groupby(by='version').count()['userid']"
   ]
  },
  {
   "cell_type": "markdown",
   "id": "constant-surgeon",
   "metadata": {},
   "source": [
    "Percentage of users that returned after 1 day"
   ]
  },
  {
   "cell_type": "code",
   "execution_count": 19,
   "id": "initial-pendant",
   "metadata": {},
   "outputs": [
    {
     "data": {
      "text/plain": [
       "0.4452095044850259"
      ]
     },
     "execution_count": 19,
     "metadata": {},
     "output_type": "execute_result"
    }
   ],
   "source": [
    "sum(df['retention_1'])/ df.shape[0]"
   ]
  },
  {
   "cell_type": "markdown",
   "id": "supposed-raising",
   "metadata": {},
   "source": [
    "Percentage of users that returned after 7 days"
   ]
  },
  {
   "cell_type": "code",
   "execution_count": 20,
   "id": "imposed-parliament",
   "metadata": {},
   "outputs": [
    {
     "data": {
      "text/plain": [
       "0.1860648194347426"
      ]
     },
     "execution_count": 20,
     "metadata": {},
     "output_type": "execute_result"
    }
   ],
   "source": [
    "sum(df['retention_7'])/ df.shape[0]"
   ]
  },
  {
   "cell_type": "markdown",
   "id": "complicated-atlantic",
   "metadata": {},
   "source": [
    "Probability of a user given gate30 returns after 1 day"
   ]
  },
  {
   "cell_type": "code",
   "execution_count": 28,
   "id": "constitutional-thermal",
   "metadata": {},
   "outputs": [
    {
     "data": {
      "text/plain": [
       "0.4481879194630872"
      ]
     },
     "execution_count": 28,
     "metadata": {},
     "output_type": "execute_result"
    }
   ],
   "source": [
    "control = df[df['version'] == 'gate_30']\n",
    "sum(control['retention_1'])/ control.shape[0]"
   ]
  },
  {
   "cell_type": "markdown",
   "id": "cardiovascular-screen",
   "metadata": {},
   "source": [
    "Probability of a user given gate30 returns after 7 days"
   ]
  },
  {
   "cell_type": "code",
   "execution_count": 29,
   "id": "divided-criminal",
   "metadata": {},
   "outputs": [
    {
     "data": {
      "text/plain": [
       "0.19020134228187918"
      ]
     },
     "execution_count": 29,
     "metadata": {},
     "output_type": "execute_result"
    }
   ],
   "source": [
    "sum(control['retention_7'])/ control.shape[0]"
   ]
  },
  {
   "cell_type": "markdown",
   "id": "cutting-soundtrack",
   "metadata": {},
   "source": [
    "Probability of a user given gate40 returns after 1 day"
   ]
  },
  {
   "cell_type": "code",
   "execution_count": 33,
   "id": "republican-meaning",
   "metadata": {},
   "outputs": [
    {
     "data": {
      "text/plain": [
       "0.44228274967574577"
      ]
     },
     "execution_count": 33,
     "metadata": {},
     "output_type": "execute_result"
    }
   ],
   "source": [
    "treatment = df[df['version'] == 'gate_40']\n",
    "sum(treatment['retention_1'])/ treatment.shape[0]"
   ]
  },
  {
   "cell_type": "markdown",
   "id": "modular-permit",
   "metadata": {},
   "source": [
    "Probability of a user given gate40 returns after 7 days"
   ]
  },
  {
   "cell_type": "code",
   "execution_count": 34,
   "id": "conventional-lease",
   "metadata": {},
   "outputs": [
    {
     "data": {
      "text/plain": [
       "0.18200004396667327"
      ]
     },
     "execution_count": 34,
     "metadata": {},
     "output_type": "execute_result"
    }
   ],
   "source": [
    "sum(treatment['retention_7'])/ treatment.shape[0]"
   ]
  },
  {
   "cell_type": "markdown",
   "id": "serial-sacramento",
   "metadata": {},
   "source": [
    "**From the preliminary analysis there isnt sufficient evidence to suggest that the treatment group leads to more retention**"
   ]
  },
  {
   "cell_type": "markdown",
   "id": "seventh-extent",
   "metadata": {},
   "source": [
    "<a id='ab_test'></a>\n",
    "#### A/B test"
   ]
  },
  {
   "cell_type": "code",
   "execution_count": null,
   "id": "spiritual-february",
   "metadata": {},
   "outputs": [],
   "source": []
  },
  {
   "cell_type": "code",
   "execution_count": null,
   "id": "failing-yellow",
   "metadata": {},
   "outputs": [],
   "source": []
  },
  {
   "cell_type": "code",
   "execution_count": null,
   "id": "identical-subscription",
   "metadata": {},
   "outputs": [],
   "source": []
  },
  {
   "cell_type": "code",
   "execution_count": null,
   "id": "american-glenn",
   "metadata": {},
   "outputs": [],
   "source": []
  },
  {
   "cell_type": "code",
   "execution_count": null,
   "id": "adolescent-coaching",
   "metadata": {},
   "outputs": [],
   "source": []
  },
  {
   "cell_type": "code",
   "execution_count": null,
   "id": "circular-bicycle",
   "metadata": {},
   "outputs": [],
   "source": []
  },
  {
   "cell_type": "code",
   "execution_count": null,
   "id": "judicial-placement",
   "metadata": {},
   "outputs": [],
   "source": []
  },
  {
   "cell_type": "code",
   "execution_count": null,
   "id": "senior-framing",
   "metadata": {},
   "outputs": [],
   "source": []
  }
 ],
 "metadata": {
  "kernelspec": {
   "display_name": "Python [conda env:root] *",
   "language": "python",
   "name": "conda-root-py"
  },
  "language_info": {
   "codemirror_mode": {
    "name": "ipython",
    "version": 3
   },
   "file_extension": ".py",
   "mimetype": "text/x-python",
   "name": "python",
   "nbconvert_exporter": "python",
   "pygments_lexer": "ipython3",
   "version": "3.8.5"
  }
 },
 "nbformat": 4,
 "nbformat_minor": 5
}
